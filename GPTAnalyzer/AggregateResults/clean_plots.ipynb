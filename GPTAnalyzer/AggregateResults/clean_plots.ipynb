{
 "cells": [
  {
   "cell_type": "code",
   "execution_count": null,
   "id": "0c2fdbce",
   "metadata": {},
   "outputs": [],
   "source": [
    "%load_ext autoreload\n",
    "%autoreload 2\n",
    "\n",
    "\n",
    "from sklearn.linear_model import LogisticRegression, LinearRegression\n",
    "\n",
    "import time\n",
    "import pandas as pd\n",
    "import matplotlib as mpl\n",
    "import matplotlib.pyplot as plt\n",
    "import numpy as np\n",
    "from logistic_regression import logistic\n",
    "from scipy.stats.mstats import mquantiles\n",
    "import seaborn as sns\n",
    "from typing import List\n",
    "from functools import reduce\n",
    "import operator\n",
    "import scipy.stats\n",
    "from plot_utils import PlotInfo, save_freq_acc_plot_and_get_info, save_logistic_regression_lines_plot_for_shots, save_logistic_regression_lines_plot_for_models, save_logistic_regression_lines_plot_for_models_shots, save_lines_plot_for_models_shots, get_farthest_points, FrequencyCache\n",
    "import plot_utils"
   ]
  },
  {
   "cell_type": "code",
   "execution_count": null,
   "id": "629e0d6a",
   "metadata": {
    "pycharm": {
     "name": "#%%\n"
    }
   },
   "outputs": [],
   "source": [
    " #  RUN ONCE\n",
    "my_frequency_cache = FrequencyCache()"
   ]
  },
  {
   "cell_type": "code",
   "execution_count": null,
   "id": "6ec058ff",
   "metadata": {},
   "outputs": [],
   "source": [
    "# RUN EVERYTIME\n",
    "mpl.rcdefaults()\n",
    "sns.set_theme(style=\"white\")\n",
    "plot_utils.frequency_cache_singleton = my_frequency_cache"
   ]
  },
  {
   "cell_type": "code",
   "execution_count": null,
   "id": "8c19a1ba",
   "metadata": {
    "pycharm": {
     "name": "#%%\n"
    }
   },
   "outputs": [],
   "source": [
    "def my_default_index_score(list_i: List[int], list_j: List[int]) -> float:\n",
    "    scores = [0.01 if i == j else abs(i-j) for (i, j) in zip(list_i, list_j)]\n",
    "    return reduce(operator.mul, scores)**2\n",
    "\n",
    "def my_default_index_filter(list_i: List[int]):\n",
    "    return not any((len(str(i)) < 2 or i % 10 == 0) for i in list_i)\n",
    "\n"
   ]
  },
  {
   "cell_type": "code",
   "execution_count": null,
   "id": "7a33a18e",
   "metadata": {
    "pycharm": {
     "name": "#%%\n"
    }
   },
   "outputs": [],
   "source": [
    "top_points = get_farthest_points('mult', 4, 'gptj', 'xy', index_score=my_default_index_score, index_filter=my_default_index_filter)\n",
    "for x in top_points[:100]:\n",
    "    print(\"\\t\".join(\"%.2f\" % a if isinstance(a, float) else str(a) for a in x[1:]))"
   ]
  },
  {
   "cell_type": "code",
   "execution_count": null,
   "id": "07d32727",
   "metadata": {
    "pycharm": {
     "name": "#%%\n"
    }
   },
   "outputs": [],
   "source": [
    "fig, ax = plt.subplots(1, 1)\n",
    "sns.despine()\n",
    "a = save_freq_acc_plot_and_get_info('mult', 4, 'gptj', key='xy', show_plot = True,\n",
    "                                    important_points=[\n",
    "                                                      # \"('24', '47')\",\n",
    "                                                      \"('24', '48')\",\n",
    "                                                      # \"('23', '47')\",\n",
    "                                                      \"('23', '48')\",\n",
    "                                                      ],\n",
    "                                    plot_scatters=False,\n",
    "                                    plot_log_reg=False)"
   ]
  },
  {
   "cell_type": "code",
   "execution_count": null,
   "id": "c85d5ec4",
   "metadata": {
    "pycharm": {
     "name": "#%%\n"
    }
   },
   "outputs": [],
   "source": [
    "a = save_freq_acc_plot_and_get_info(\n",
    "    'mult', 2, 'gptj', key='x', show_plot = True,\n",
    "    important_points=[72, 71],\n",
    "    plot_log_reg=False,\n",
    "    plot_bar=False)"
   ]
  },
  {
   "cell_type": "code",
   "execution_count": null,
   "id": "e3f24107",
   "metadata": {
    "pycharm": {
     "name": "#%%\n"
    }
   },
   "outputs": [],
   "source": [
    "a = save_freq_acc_plot_and_get_info(\n",
    "    'mult', 2, 'gptj', key='x',\n",
    "    plot_log_reg=False,\n",
    "    show_plot=True,\n",
    "    plot_bar=False,\n",
    "    important_points=[23, 24])"
   ]
  },
  {
   "cell_type": "code",
   "execution_count": null,
   "id": "95ff4f25",
   "metadata": {
    "pycharm": {
     "name": "#%%\n"
    }
   },
   "outputs": [],
   "source": [
    "WORD = 'mult'\n",
    "MODEL = 'gptj'\n",
    "for shots in [0, 2, 4 ,8, 16]:\n",
    "    fig, ax = plt.subplots(1, 1)\n",
    "    sns.despine()\n",
    "    a = save_freq_acc_plot_and_get_info(\n",
    "        WORD, shots, MODEL, key='x',\n",
    "        plot_log_reg=False,\n",
    "        plot_bar=False,\n",
    "        show_plot = True)\n",
    "    print(shots, \":\", a.accuracy_all)\n"
   ]
  },
  {
   "cell_type": "code",
   "execution_count": null,
   "id": "665cc508",
   "metadata": {
    "pycharm": {
     "name": "#%%\n"
    }
   },
   "outputs": [],
   "source": [
    "q = save_freq_acc_plot_and_get_info(\n",
    "    'day', 2, 'gptj', key='xz',\n",
    "    plot_log_reg=False,\n",
    "    plot_bar=False,\n",
    "    show_plot=True,\n",
    "    quantile_number=2)"
   ]
  },
  {
   "cell_type": "code",
   "execution_count": null,
   "id": "718e6484",
   "metadata": {
    "pycharm": {
     "name": "#%%\n"
    }
   },
   "outputs": [],
   "source": [
    "save_logistic_regression_lines_plot_for_shots(\n",
    "    'mult', 'gptj', shots=[0, 2, 8], key='x', show_plot=True)"
   ]
  },
  {
   "cell_type": "code",
   "execution_count": null,
   "id": "04457be5",
   "metadata": {
    "pycharm": {
     "name": "#%%\n"
    }
   },
   "outputs": [],
   "source": [
    "save_logistic_regression_lines_plot_for_models(\n",
    "    'plus', ['gptjsmall', 'gptjlarge', 'gptj'], shot=2, key='x',\n",
    "    show_plot=True)"
   ]
  },
  {
   "cell_type": "markdown",
   "id": "a9463fdf",
   "metadata": {
    "pycharm": {
     "name": "#%% md\n"
    }
   },
   "source": [
    "## For Latex Results"
   ]
  },
  {
   "cell_type": "code",
   "execution_count": null,
   "id": "0976d44f",
   "metadata": {
    "pycharm": {
     "name": "#%%\n"
    }
   },
   "outputs": [],
   "source": [
    "\n",
    "def create_arithmetics_similarity_1():\n",
    "    arithmetics_task_1_path = './latex_results/arithmetics-gptj.csv'\n",
    "    template_header = \"\\\\multirow{{{0}}}{{*}}{{{1}}} & {2} & {3:.2f} & {4:.2f} & {5:.2f}\\\\\\\\\\n\"\n",
    "    template_row = \"& {0} & {1:.2f} & {2:.2f} & {3:.2f}\\\\\\\\\\n\"\n",
    "    footer = \"\\midrule\\n\"\n",
    "    result = {\n",
    "        'Task': [],\n",
    "        'Model': [],\n",
    "        '#Shot': [],\n",
    "        'Accuracy': [],\n",
    "        'Similarity_x': [],\n",
    "        'Similarity_xy': [],\n",
    "        'Similarity_xz': [],\n",
    "    }\n",
    "    latex_content = \"\"\n",
    "    for (task, word) in [('Multiplication', 'mult'), ('Addition', 'plus')]:\n",
    "        task_result = []\n",
    "        for model in ['gptj']:\n",
    "            for shot in [0, 2, 4, 8, 20]:\n",
    "                result['Task'].append(task)\n",
    "                result['Model'].append(model)\n",
    "                result['#Shot'].append(shot)\n",
    "                plot_info_x = PlotInfo(word, shot, model, key_type='x') \\\n",
    "                    .quantile_accuracies_plot(q_num=10) \\\n",
    "                    .calculate_accuracy_all()\n",
    "                result['Accuracy'].append(plot_info_x.accuracy_all)\n",
    "                result['Similarity_x'].append(plot_info_x.similarity)\n",
    "                result['Similarity_xy'].append(\n",
    "                    PlotInfo(word, shot, model, key_type='xy').quantile_accuracies_plot(q_num=10).similarity)\n",
    "                result['Similarity_xz'].append(\n",
    "                    PlotInfo(word, shot, model, key_type='xz').quantile_accuracies_plot(q_num=10).similarity)\n",
    "                task_result.append([result['#Shot'][-1], result['Accuracy'][-1], result['Similarity_x'][-1], result['Similarity_xy'][-1]])\n",
    "        latex_content += template_header.format(len(task_result), task, task_result[0][0], task_result[0][1], task_result[0][2], task_result[0][3])\n",
    "        for tt in task_result[1:]:\n",
    "            latex_content += template_row.format(*tt)\n",
    "        latex_content += footer\n",
    "    pd.DataFrame(result).to_csv(arithmetics_task_1_path)\n",
    "    print(latex_content)\n",
    "\n",
    "\n",
    "create_arithmetics_similarity_1()\n",
    "\n",
    "\n"
   ]
  },
  {
   "cell_type": "code",
   "execution_count": null,
   "id": "815f92e9",
   "metadata": {
    "pycharm": {
     "name": "#%%\n"
    }
   },
   "outputs": [],
   "source": [
    "\n",
    "def create_comparison_similarity_1():\n",
    "    comparison_task_1_path = './latex_results/comparison-gptj.csv'\n",
    "    template_header = \"\\\\multirow{{{0}}}{{*}}{{{1}}} & {2} & {3:.2f} & {4:.2f} & {5:.2f}\\\\\\\\\\n\"\n",
    "    template_row = \"& {0} & {1:.2f} & {2:.2f} & {3:.2f}\\\\\\\\\\n\"\n",
    "    footer = \"\\midrule\\n\"\n",
    "    result = {\n",
    "        'Task': [],\n",
    "        'Model': [],\n",
    "        '#Shot': [],\n",
    "        'Accuracy': [],\n",
    "        'Similarity_x': [],\n",
    "        'Similarity_xy': [],\n",
    "        'Similarity_xz': [],\n",
    "    }\n",
    "    latex_content = \"\"\n",
    "    for (task, word) in [('Min', 'compareless'), ('Max', 'comparemore')]:\n",
    "        task_result = []\n",
    "        for model in ['gptj']:\n",
    "            for shot in [0, 2, 4, 8, 20]:\n",
    "                result['Task'].append(task)\n",
    "                result['Model'].append(model)\n",
    "                result['#Shot'].append(shot)\n",
    "                plot_info_x = PlotInfo(word, shot, model, key_type='x') \\\n",
    "                    .quantile_accuracies_plot(q_num=10) \\\n",
    "                    .calculate_accuracy_all()\n",
    "                result['Accuracy'].append(plot_info_x.accuracy_all)\n",
    "                result['Similarity_x'].append(plot_info_x.similarity)\n",
    "                result['Similarity_xy'].append(\n",
    "                    PlotInfo(word, shot, model, key_type='xy').quantile_accuracies_plot(q_num=10).similarity)\n",
    "                result['Similarity_xz'].append(\n",
    "                    PlotInfo(word, shot, model, key_type='xz').quantile_accuracies_plot(q_num=10).similarity)\n",
    "                task_result.append([result['#Shot'][-1], result['Accuracy'][-1], result['Similarity_x'][-1], result['Similarity_xy'][-1]])\n",
    "        latex_content += template_header.format(len(task_result), task, task_result[0][0], task_result[0][1], task_result[0][2], task_result[0][3])\n",
    "        for tt in task_result[1:]:\n",
    "            latex_content += template_row.format(*tt)\n",
    "        latex_content += footer\n",
    "    pd.DataFrame(result).to_csv(comparison_task_1_path)\n",
    "    print(latex_content)\n",
    "\n",
    "\n",
    "create_comparison_similarity_1()"
   ]
  },
  {
   "cell_type": "code",
   "execution_count": null,
   "id": "109b14bf",
   "metadata": {
    "pycharm": {
     "name": "#%%\n"
    }
   },
   "outputs": [],
   "source": [
    "def create_timeunits_similarity_1():\n",
    "    timeunits_task_1_path = './latex_results/timeunits-gptj.csv'\n",
    "    template_header = \"\\\\multirow{{{0}}}{{*}}{{{1}}} & {2} & {3:.2f} & {4:.2f} & {5:.2f}\\\\\\\\\\n\"\n",
    "    template_row = \"& {0} & {1:.2f} & {2:.2f} & {3:.2f}\\\\\\\\\\n\"\n",
    "    footer = \"\\midrule\\n\"\n",
    "    result = {\n",
    "        'Task': [],\n",
    "        'Model': [],\n",
    "        '#Shot': [],\n",
    "        'Accuracy': [],\n",
    "        'Similarity_x': [],\n",
    "        'Similarity_xy': [],\n",
    "        # 'Similarity_xz': [],\n",
    "    }\n",
    "    latex_content = \"\"\n",
    "    for (task, word) in [('Min2Sec', 'minute'), ('Hour2Min', 'hour'), ('Day2Hour', 'day'), ('Month2Week', 'month'), ('Year2Month', 'year'), ('Decade2Year', 'decade')]:\n",
    "        task_result = []\n",
    "        for model in ['gptj']:\n",
    "            for shot in [2, 4, 8]:\n",
    "                result['Task'].append(task)\n",
    "                result['Model'].append(model)\n",
    "                result['#Shot'].append(shot)\n",
    "                plot_info_x = PlotInfo(word, shot, model, key_type='x') \\\n",
    "                    .quantile_accuracies_plot(q_num=10) \\\n",
    "                    .calculate_accuracy_all()\n",
    "                result['Accuracy'].append(plot_info_x.accuracy_all)\n",
    "                result['Similarity_x'].append(plot_info_x.similarity)\n",
    "                result['Similarity_xy'].append(\n",
    "                    PlotInfo(word, shot, model, key_type='xy').quantile_accuracies_plot(q_num=10).similarity)\n",
    "                # result['Similarity_xz'].append(\n",
    "                #     PlotInfo(word, shot, model, key_type='xz').quantile_accuracies_plot(q_num=10).similarity)\n",
    "                task_result.append([result['#Shot'][-1], result['Accuracy'][-1], result['Similarity_x'][-1], result['Similarity_xy'][-1]])\n",
    "        latex_content += template_header.format(len(task_result), task, task_result[0][0], task_result[0][1], task_result[0][2], task_result[0][3])\n",
    "        for tt in task_result[1:]:\n",
    "            latex_content += template_row.format(*tt)\n",
    "        latex_content += footer\n",
    "    pd.DataFrame(result).to_csv(timeunits_task_1_path)\n",
    "    with open(timeunits_task_1_path+\".txt\", \"w\") as f:\n",
    "        f.write(latex_content)\n",
    "    print(latex_content)\n",
    "\n",
    "\n",
    "create_timeunits_similarity_1()"
   ]
  },
  {
   "cell_type": "code",
   "execution_count": null,
   "id": "b49c64bd",
   "metadata": {
    "pycharm": {
     "name": "#%%\n"
    }
   },
   "outputs": [],
   "source": [
    "def create_generic_similarity_2(name: str, list_of_tasks, shots):\n",
    "    generic_task_1_path = f'./latex_results/{name}-gptj-2.csv'\n",
    "    template_header = \"\\\\multirow{{{0}}}{{*}}{{{1}}} & {2} & {3:.2f} & {4:.2f} & {5:.2f}& {6:.2f} & {7:.2f}\\\\\\\\\\n\"\n",
    "    template_row = \"& {0} & {1:.2f} & {2:.2f} & {3:.2f}& {4:.2f} & {5:.2f}\\\\\\\\\\n\"\n",
    "    footer = \"\\midrule\\n\"\n",
    "    csv_rows = {\n",
    "        'Task': [],\n",
    "        'Model': [],\n",
    "        '#Shot': [],\n",
    "        'Accuracy': [],\n",
    "        'Q0_Acc_x': [],\n",
    "        'Q-1_Acc_x': [],\n",
    "        'Q0_Acc_xy': [],\n",
    "        'Q-1_Acc_xy': [],\n",
    "        'Q0_Acc_xz': [],\n",
    "        'Q-1_Acc_xz': [],\n",
    "        'Similarity_x': [],\n",
    "        'Similarity_xy': [],\n",
    "        'Similarity_xz': [],\n",
    "    }\n",
    "    latex_content = \"\"\n",
    "    q_num = 10\n",
    "    for (task, word) in list_of_tasks:\n",
    "        latex_result_multirow = []\n",
    "        for model in ['gptj']:\n",
    "            for shot in shots:\n",
    "                csv_rows['Task'].append(task)\n",
    "                csv_rows['Model'].append(model)\n",
    "                csv_rows['#Shot'].append(shot)\n",
    "                for key_type in ['x', 'xy', 'xz']:\n",
    "                    plot_info = PlotInfo(word, shot, model, key_type=key_type) \\\n",
    "                        .quantile_accuracies_plot(q_num=q_num) \\\n",
    "                        .calculate_accuracy_all()\n",
    "                    if key_type == 'x':\n",
    "                        csv_rows['Accuracy'].append(plot_info.accuracy_all)\n",
    "                    csv_rows[f'Q0_Acc_{key_type}'].append(plot_info.quantile_bins['accuracies'][0])\n",
    "                    csv_rows[f'Q-1_Acc_{key_type}'].append(plot_info.quantile_bins['accuracies'][-1])\n",
    "                    csv_rows[f'Similarity_{key_type}'].append(plot_info.similarity)\n",
    "                latex_result_multirow.append([csv_rows['#Shot'][-1], csv_rows['Accuracy'][-1], csv_rows['Similarity_x'][-1], csv_rows['Similarity_xy'][-1],csv_rows['Similarity_x'][-1]/csv_rows['Accuracy'][-1], csv_rows['Similarity_xy'][-1]/csv_rows['Accuracy'][-1]])\n",
    "        latex_content += template_header.format(len(latex_result_multirow), task, *latex_result_multirow[0])\n",
    "        for tt in latex_result_multirow[1:]:\n",
    "            latex_content += template_row.format(*tt)\n",
    "        latex_content += footer\n",
    "    pd.DataFrame(csv_rows).to_csv(generic_task_1_path)\n",
    "    with open(generic_task_1_path+\".txt\", \"w\") as f:\n",
    "        f.write(latex_content)\n",
    "    print(latex_content)\n",
    "\n",
    "\n",
    "create_generic_similarity_2(\"arithmetics\", [('Multiplication', 'mult'), ('Addition', 'plus')], [0, 2, 4, 8, 16])\n",
    "# create_generic_similarity_2(\"comparison\", [('Min', 'compareless'), ('Max', 'comparemore')], [0, 2, 4, 8, 20])\n",
    "create_generic_similarity_2(\"timeunits\", [('Min2Sec', 'minute'), ('Hour2Min', 'hour'), ('Day2Hour', 'day'), ('Month2Week', 'month'), ('Year2Month', 'year'), ('Decade2Year', 'decade')], [2, 4, 8])\n"
   ]
  },
  {
   "cell_type": "code",
   "execution_count": null,
   "id": "f7259ff4",
   "metadata": {
    "pycharm": {
     "name": "#%%\n"
    }
   },
   "outputs": [],
   "source": [
    "def create_generic_similarity_3(name: str, list_of_tasks, shots):\n",
    "    generic_task_1_path = f'./latex_results/{name}-gptj-3.csv'\n",
    "    template_header = \"\\\\multirow{{{0}}}{{*}}{{{1}}} & {2} & {3:.2f} & {4:.2f} & {5:.2f} & {6:.2f}\\\\\\\\\\n\"\n",
    "    template_row = \"& {0} & {1:.2f} & {2:.2f} & {3:.2f} & {4:.2f}\\\\\\\\\\n\"\n",
    "    footer = \"\\midrule\\n\"\n",
    "    csv_rows = {\n",
    "        'Task': [],\n",
    "        'Model': [],\n",
    "        '#Shot': [],\n",
    "        'Accuracy': [],\n",
    "        'Q0_Acc_x': [],\n",
    "        'Q-1_Acc_x': [],\n",
    "        'Q0_Acc_xy': [],\n",
    "        'Q-1_Acc_xy': [],\n",
    "        'Q0_Acc_xz': [],\n",
    "        'Q-1_Acc_xz': [],\n",
    "        'Similarity_x': [],\n",
    "        'Similarity_xy': [],\n",
    "        'Similarity_xz': [],\n",
    "    }\n",
    "    latex_content = \"\"\n",
    "    q_num = 10\n",
    "    for (task, word) in list_of_tasks:\n",
    "        print(\"Task: \", task)\n",
    "        latex_result_multirow = []\n",
    "        for model in ['gptj']:\n",
    "            for shot in shots:\n",
    "                csv_rows['Task'].append(task)\n",
    "                csv_rows['Model'].append(model)\n",
    "                csv_rows['#Shot'].append(shot)\n",
    "                for key_type in ['x', 'xy', 'xz']:\n",
    "                    plot_info = PlotInfo(word, shot, model, key_type=key_type) \\\n",
    "                        .quantile_accuracies_plot(q_num=q_num) \\\n",
    "                        .calculate_accuracy_all()\n",
    "                    if key_type == 'x':\n",
    "                        csv_rows['Accuracy'].append(plot_info.accuracy_all)\n",
    "                    csv_rows[f'Q0_Acc_{key_type}'].append(plot_info.quantile_bins['accuracies'][0])\n",
    "                    csv_rows[f'Q-1_Acc_{key_type}'].append(plot_info.quantile_bins['accuracies'][-1])\n",
    "                    csv_rows[f'Similarity_{key_type}'].append(plot_info.similarity)\n",
    "                latex_result_multirow.append([csv_rows['#Shot'][-1], 100*csv_rows['Accuracy'][-1], 100*csv_rows['Similarity_x'][-1],100*csv_rows['Similarity_xy'][-1], 100*csv_rows['Similarity_xz'][-1]])\n",
    "        latex_content += template_header.format(len(latex_result_multirow), task, *latex_result_multirow[0])\n",
    "        for tt in latex_result_multirow[1:]:\n",
    "            latex_content += template_row.format(*tt)\n",
    "        latex_content += footer\n",
    "    pd.DataFrame(csv_rows).to_csv(generic_task_1_path)\n",
    "    with open(generic_task_1_path+\".txt\", \"w\") as f:\n",
    "        f.write(latex_content)\n",
    "\n",
    "\n",
    "create_generic_similarity_3(\"arithmetics\", [('Multiplication', 'mult'), ('Addition', 'plus')], [0, 2, 4, 8, 16])\n",
    "create_generic_similarity_3(\"abstract_arithmetics\", [('Multiplication', 'multhashtag'), ('Addition', 'plushashtag')], [2, 4, 8, 16])\n",
    "\n",
    "# create_generic_similarity_3(\"comparison\", [('Min', 'compareless'), ('Max', 'comparemore')], [0, 2, 4, 8, 20])\n",
    "create_generic_similarity_3(\"timeunits\", [('Min2Sec', 'minute'), ('Hour2Min', 'hour'), ('Day2Hour', 'day'), ('Week2Day', 'week') ,('Month2Week', 'month'), ('Year2Month', 'year'), ('Decade2Year', 'decade')], [0, 2, 4, 8, 16])\n"
   ]
  },
  {
   "cell_type": "code",
   "execution_count": null,
   "id": "a3be70bd",
   "metadata": {
    "pycharm": {
     "name": "#%%\n"
    }
   },
   "outputs": [],
   "source": [
    "def draw_plots_1():\n",
    "    save_logistic_regression_lines_plot_for_models('plus', ['gptjsmall', 'gptjlarge', 'gptj'], shot=8, key='x', show_plot=True)\n",
    "    save_logistic_regression_lines_plot_for_models('mult', ['gptjsmall', 'gptjlarge', 'gptj'], shot=8, key='x', show_plot=True)\n",
    "    save_logistic_regression_lines_plot_for_shots('plus', 'gptj', shots=[0, 2,4, 8, 20], key='x', show_plot=True)\n",
    "    save_logistic_regression_lines_plot_for_shots('mult', 'gptj', shots=[0, 2,4, 8, 20], key='x', show_plot=True)\n",
    "    for shot in [0, 2, 4, 8, 20]:\n",
    "        save_freq_acc_plot_and_get_info('mult', shot, 'gptj', key='x', show_plot = False, quantile_number=10,\n",
    "                                       plot_bar=False, plot_log_reg=False)\n",
    "\n",
    "draw_plots_1()"
   ]
  },
  {
   "cell_type": "code",
   "execution_count": null,
   "id": "23b2f374",
   "metadata": {
    "pycharm": {
     "name": "#%%\n"
    }
   },
   "outputs": [],
   "source": [
    "save_freq_acc_plot_and_get_info(\n",
    "    'day', 0, 'gptj', key='x', show_plot=True, quantile_number=5, plot_bar=False, plot_log_reg=False)"
   ]
  },
  {
   "cell_type": "code",
   "execution_count": null,
   "id": "3e7e5472",
   "metadata": {
    "pycharm": {
     "name": "#%%\n"
    },
    "scrolled": true
   },
   "outputs": [],
   "source": [
    "def draw_plots_2():\n",
    "    save_logistic_regression_lines_plot_for_models_shots('plus', ['gptjsmall', 'gptjlarge', 'gptj'], shots=[2,8], key='x', show_plot=True)\n",
    "    save_logistic_regression_lines_plot_for_models_shots('mult', ['gptjsmall', 'gptjlarge', 'gptj'], shots=[2,8], key='x', show_plot=True)\n",
    "    # save_logistic_regression_lines_plot_for_shots('plus', 'gptj', shots=[0, 2,4, 8, 20], key='x', show_plot=True)\n",
    "    # save_logistic_regression_lines_plot_for_shots('mult', 'gptj', shots=[0, 2,4, 8, 20], key='x', show_plot=True)\n",
    "    # for shot in [0, 2, 4, 8, 20]:\n",
    "    #     save_freq_acc_plot_and_get_info('mult', shot, 'gptj', key='x', show_plot = False, quantile_number=10)\n",
    "\n",
    "draw_plots_2()"
   ]
  },
  {
   "cell_type": "code",
   "execution_count": null,
   "id": "076536e1",
   "metadata": {
    "scrolled": true
   },
   "outputs": [],
   "source": [
    "# plt.xlim(1e6, 5e7)\n",
    "plot_utils.save_interpolation_lines_plot_for_models_shots('plus', ['gptjsmall', 'gptjlarge', 'gptj'], shots=[2, 8], key='x', show_plot=True)\n",
    "# plt.xlim(1e6, 5e7)\n",
    "# plt.ylim(-0.05, 1.05)\n",
    "# plot_utils.save_interpolation_lines_plot_for_models_shots('decade', ['gptjsmall'], shots=[2, 16], key='x', show_plot=True)"
   ]
  },
  {
   "cell_type": "code",
   "execution_count": null,
   "id": "f36d12d8",
   "metadata": {
    "pycharm": {
     "name": "#%%\n"
    }
   },
   "outputs": [],
   "source": [
    "plot_utils.save_interpolation_lines_plot_for_models_shots('mult', ['gptjsmall', 'gptjlarge', 'gptj'], shots=[2, 8], key='x', show_plot=True)\n"
   ]
  },
  {
   "cell_type": "code",
   "execution_count": null,
   "id": "07842570",
   "metadata": {
    "pycharm": {
     "name": "#%%\n"
    }
   },
   "outputs": [],
   "source": [
    "# plt.xlim(1e6, 5e7)\n",
    "plt.ylim(0, 1.05)\n",
    "plot_utils.save_interpolation_lines_plot_for_shots('plus', ['gptj'], shots=[2, 8], key='x', show_plot=True)\n",
    "# plt.xlim(1e6, 5e7)\n",
    "plt.ylim(0, 1)\n",
    "plot_utils.save_interpolation_lines_plot_for_shots('mult', ['gptj'], shots=[2, 8], key='x', show_plot=True)"
   ]
  },
  {
   "cell_type": "code",
   "execution_count": null,
   "id": "8efc40b4",
   "metadata": {
    "pycharm": {
     "name": "#%%\n"
    }
   },
   "outputs": [],
   "source": [
    "plot_utils.save_interpolation_lines_plot_for_shots('decade', ['gptj'], shots=[2, 8], key='x', show_plot=True)"
   ]
  },
  {
   "cell_type": "code",
   "execution_count": null,
   "id": "ada34ca7",
   "metadata": {
    "pycharm": {
     "name": "#%%\n"
    }
   },
   "outputs": [],
   "source": [
    "plot_utils.save_interpolation_lines_plot_for_shots('year', ['gptj'], shots=[2, 8], key='x', show_plot=True)"
   ]
  },
  {
   "cell_type": "code",
   "execution_count": null,
   "id": "6d315c77",
   "metadata": {
    "pycharm": {
     "name": "#%%\n"
    }
   },
   "outputs": [],
   "source": [
    "# plt.xlim(1e6, 5e7)\n",
    "plt.ylim(0, 1.0)\n",
    "plot_utils.save_interpolation_lines_plot_for_shots('plushashtag', ['gptj'], shots=[2, 8], key='x', show_plot=True)\n",
    "# plt.xlim(1e6, 5e7)\n",
    "plt.ylim(0, 1)\n",
    "plot_utils.save_interpolation_lines_plot_for_shots('multhashtag', ['gptj'], shots=[2, 8], key='x', show_plot=True)"
   ]
  },
  {
   "cell_type": "code",
   "execution_count": null,
   "id": "9ed6b502",
   "metadata": {
    "pycharm": {
     "name": "#%%\n"
    }
   },
   "outputs": [],
   "source": [
    "for shots in [0, 2, 4, 8]:\n",
    "    fig, ax = plt.subplots(1, 1)\n",
    "    sns.despine()\n",
    "    save_freq_acc_plot_and_get_info(\n",
    "        'comparemoreless', shots, 'gptj', key='x',\n",
    "        show_plot=True, quantile_number=10,\n",
    "        plot_log_reg=False,\n",
    "        plot_bar=False)"
   ]
  },
  {
   "cell_type": "code",
   "execution_count": null,
   "id": "d5e68d68",
   "metadata": {
    "pycharm": {
     "name": "#%%\n"
    }
   },
   "outputs": [],
   "source": [
    "save_lines_plot_for_models_shots('mult', ['gptjsmall', 'gptjlarge', 'gptj'], shots=[2, 8, 16], key_type='x', show_plot=True)"
   ]
  },
  {
   "cell_type": "code",
   "execution_count": null,
   "id": "9049c469",
   "metadata": {
    "pycharm": {
     "name": "#%%\n"
    }
   },
   "outputs": [],
   "source": [
    "# x = [1, 2]\n",
    "# x.shape\n",
    "x = [[2,1], [3, 2], [4, 1]]\n",
    "\n",
    "plt.errorbar( x=[1],y=[10] , yerr=[[2],[1]], marker='o')\n"
   ]
  },
  {
   "cell_type": "code",
   "execution_count": null,
   "id": "6c7e103e",
   "metadata": {
    "pycharm": {
     "name": "#%%\n"
    }
   },
   "outputs": [],
   "source": []
  }
 ],
 "metadata": {
  "kernelspec": {
   "display_name": "Python 3 (ipykernel)",
   "language": "python",
   "name": "python3"
  },
  "language_info": {
   "codemirror_mode": {
    "name": "ipython",
    "version": 3
   },
   "file_extension": ".py",
   "mimetype": "text/x-python",
   "name": "python",
   "nbconvert_exporter": "python",
   "pygments_lexer": "ipython3",
   "version": "3.7.11"
  }
 },
 "nbformat": 4,
 "nbformat_minor": 5
}
