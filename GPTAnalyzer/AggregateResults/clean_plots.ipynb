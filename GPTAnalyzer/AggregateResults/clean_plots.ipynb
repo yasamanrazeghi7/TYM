{
 "cells": [
  {
   "cell_type": "code",
   "execution_count": 48,
   "id": "0c2fdbce",
   "metadata": {},
   "outputs": [
    {
     "name": "stdout",
     "output_type": "stream",
     "text": [
      "The autoreload extension is already loaded. To reload it, use:\n",
      "  %reload_ext autoreload\n"
     ]
    }
   ],
   "source": [
    "%load_ext autoreload\n",
    "%autoreload 2\n",
    "\n",
    "\n",
    "from sklearn.linear_model import LogisticRegression, LinearRegression\n",
    "\n",
    "import time\n",
    "import pandas as pd\n",
    "import matplotlib.pyplot as plt\n",
    "import numpy as np\n",
    "from logistic_regression import logistic\n",
    "from scipy.stats.mstats import mquantiles\n",
    "import seaborn as sns\n",
    "import scipy.stats\n",
    "from plot_utils import PlotInfo, save_freq_acc_plot_and_get_info, save_logistic_regression_lines_plot_for_shots, save_logistic_regression_lines_plot_for_models, frequency_cache_singleton"
   ]
  },
  {
   "cell_type": "code",
   "execution_count": 5,
   "id": "6ec058ff",
   "metadata": {},
   "outputs": [],
   "source": [
    "sns.set_theme(style=\"white\", palette=\"pastel\")"
   ]
  },
  {
   "cell_type": "code",
   "execution_count": null,
   "outputs": [],
   "source": [
    "WORD = 'week'\n",
    "MODEL = 'gptj'\n",
    "for shots in [2, 4, 8, 20]:\n",
    "    a = save_freq_acc_plot_and_get_info(WORD, shots, MODEL, key='x', show_plot = True)\n",
    "    print(shots, \":\", a.accuracy_all)\n"
   ],
   "metadata": {
    "collapsed": false,
    "pycharm": {
     "name": "#%%\n"
    }
   }
  },
  {
   "cell_type": "code",
   "execution_count": null,
   "outputs": [],
   "source": [
    "q = save_freq_acc_plot_and_get_info('day', 2, 'gptj', key='xz', show_plot = True, quantile_number=2)"
   ],
   "metadata": {
    "collapsed": false,
    "pycharm": {
     "name": "#%%\n"
    }
   }
  },
  {
   "cell_type": "code",
   "execution_count": null,
   "outputs": [],
   "source": [
    "save_logistic_regression_lines_plot_for_shots('plus', 'gptj', shots=[0, 2,4, 8, 20], key='xz', show_plot=True)"
   ],
   "metadata": {
    "collapsed": false,
    "pycharm": {
     "name": "#%%\n"
    }
   }
  },
  {
   "cell_type": "code",
   "execution_count": 97,
   "outputs": [
    {
     "data": {
      "text/plain": "<Figure size 432x288 with 1 Axes>",
      "image/png": "[encoded data removed]"
     },
     "metadata": {},
     "output_type": "display_data"
    }
   ],
   "source": [
    "save_logistic_regression_lines_plot_for_models('plus', ['gptjsmall', 'gptjlarge', 'gptj'], shot=2, key='x', show_plot=True)"
   ],
   "metadata": {
    "collapsed": false,
    "pycharm": {
     "name": "#%%\n"
    }
   }
  },
  {
   "cell_type": "markdown",
   "id": "a9463fdf",
   "metadata": {
    "pycharm": {
     "name": "#%% md\n"
    }
   },
   "source": [
    "## For Latex Results"
   ]
  },
  {
   "cell_type": "code",
   "execution_count": 132,
   "outputs": [
    {
     "name": "stdout",
     "output_type": "stream",
     "text": [
      "I'm at index 9999999, lines: (('274087', '300671'), 1)\n",
      "\n",
      "\\multirow{5}{*}{Multiplication} & 0 & 0.05 & 0.18 & 0.21\\\\\n",
      "& 2 & 0.37 & 0.72 & 0.78\\\\\n",
      "& 4 & 0.39 & 0.67 & 0.76\\\\\n",
      "& 8 & 0.41 & 0.71 & 0.78\\\\\n",
      "& 20 & 0.40 & 0.79 & 0.80\\\\\n",
      "\\midrule\n",
      "\\multirow{5}{*}{Addition} & 0 & 0.02 & 0.08 & 0.07\\\\\n",
      "& 2 & 0.90 & 0.13 & 0.17\\\\\n",
      "& 4 & 0.92 & 0.09 & 0.16\\\\\n",
      "& 8 & 0.92 & 0.15 & 0.24\\\\\n",
      "& 20 & 0.86 & 0.19 & 0.30\\\\\n",
      "\\midrule\n",
      "\n"
     ]
    }
   ],
   "source": [
    "\n",
    "def create_arithmetics_similarity_1():\n",
    "    arithmetics_task_1_path = './latex_results/arithmetics-gptj.csv'\n",
    "    template_header = \"\\\\multirow{{{0}}}{{*}}{{{1}}} & {2} & {3:.2f} & {4:.2f} & {5:.2f}\\\\\\\\\\n\"\n",
    "    template_row = \"& {0} & {1:.2f} & {2:.2f} & {3:.2f}\\\\\\\\\\n\"\n",
    "    footer = \"\\midrule\\n\"\n",
    "    result = {\n",
    "        'Task': [],\n",
    "        'Model': [],\n",
    "        '#Shot': [],\n",
    "        'Accuracy': [],\n",
    "        'Similarity_x': [],\n",
    "        'Similarity_xy': [],\n",
    "        'Similarity_xz': [],\n",
    "    }\n",
    "    latex_content = \"\"\n",
    "    for (task, word) in [('Multiplication', 'mult'), ('Addition', 'plus')]:\n",
    "        task_result = []\n",
    "        for model in ['gptj']:\n",
    "            for shot in [0, 2, 4, 8, 20]:\n",
    "                result['Task'].append(task)\n",
    "                result['Model'].append(model)\n",
    "                result['#Shot'].append(shot)\n",
    "                plot_info_x = PlotInfo(word, shot, model, key_type='x') \\\n",
    "                    .quantile_accuracies_plot(q_num=10) \\\n",
    "                    .calculate_accuracy_all()\n",
    "                result['Accuracy'].append(plot_info_x.accuracy_all)\n",
    "                result['Similarity_x'].append(plot_info_x.similarity)\n",
    "                result['Similarity_xy'].append(\n",
    "                    PlotInfo(word, shot, model, key_type='xy').quantile_accuracies_plot(q_num=10).similarity)\n",
    "                result['Similarity_xz'].append(\n",
    "                    PlotInfo(word, shot, model, key_type='xz').quantile_accuracies_plot(q_num=10).similarity)\n",
    "                task_result.append([result['#Shot'][-1], result['Accuracy'][-1], result['Similarity_x'][-1], result['Similarity_xy'][-1]])\n",
    "        latex_content += template_header.format(len(task_result), task, task_result[0][0], task_result[0][1], task_result[0][2], task_result[0][3])\n",
    "        for tt in task_result[1:]:\n",
    "            latex_content += template_row.format(*tt)\n",
    "        latex_content += footer\n",
    "    pd.DataFrame(result).to_csv(arithmetics_task_1_path)\n",
    "    print(latex_content)\n",
    "\n",
    "\n",
    "create_arithmetics_similarity_1()\n",
    "\n",
    "\n"
   ],
   "metadata": {
    "collapsed": false,
    "pycharm": {
     "name": "#%%\n"
    }
   }
  },
  {
   "cell_type": "code",
   "execution_count": 133,
   "outputs": [
    {
     "name": "stdout",
     "output_type": "stream",
     "text": [
      "\\multirow{5}{*}{Min} & 0 & 0.00 & 0.02 & 0.00\\\\\n",
      "& 2 & 0.56 & 0.60 & 0.03\\\\\n",
      "& 4 & 0.69 & 0.10 & -0.14\\\\\n",
      "& 8 & 0.78 & -0.11 & -0.15\\\\\n",
      "& 20 & 0.86 & 0.07 & -0.14\\\\\n",
      "\\midrule\n",
      "\\multirow{5}{*}{Max} & 0 & 0.00 & 0.00 & 0.00\\\\\n",
      "& 2 & 0.64 & 0.08 & -0.04\\\\\n",
      "& 4 & 0.65 & -0.21 & 0.06\\\\\n",
      "& 8 & 0.65 & -0.29 & 0.11\\\\\n",
      "& 20 & 0.75 & -0.26 & -0.16\\\\\n",
      "\\midrule\n",
      "\n"
     ]
    }
   ],
   "source": [
    "\n",
    "def create_comparison_similarity_1():\n",
    "    comparison_task_1_path = './latex_results/comparison-gptj.csv'\n",
    "    template_header = \"\\\\multirow{{{0}}}{{*}}{{{1}}} & {2} & {3:.2f} & {4:.2f} & {5:.2f}\\\\\\\\\\n\"\n",
    "    template_row = \"& {0} & {1:.2f} & {2:.2f} & {3:.2f}\\\\\\\\\\n\"\n",
    "    footer = \"\\midrule\\n\"\n",
    "    result = {\n",
    "        'Task': [],\n",
    "        'Model': [],\n",
    "        '#Shot': [],\n",
    "        'Accuracy': [],\n",
    "        'Similarity_x': [],\n",
    "        'Similarity_xy': [],\n",
    "        'Similarity_xz': [],\n",
    "    }\n",
    "    latex_content = \"\"\n",
    "    for (task, word) in [('Min', 'compareless'), ('Max', 'comparemore')]:\n",
    "        task_result = []\n",
    "        for model in ['gptj']:\n",
    "            for shot in [0, 2, 4, 8, 20]:\n",
    "                result['Task'].append(task)\n",
    "                result['Model'].append(model)\n",
    "                result['#Shot'].append(shot)\n",
    "                plot_info_x = PlotInfo(word, shot, model, key_type='x') \\\n",
    "                    .quantile_accuracies_plot(q_num=10) \\\n",
    "                    .calculate_accuracy_all()\n",
    "                result['Accuracy'].append(plot_info_x.accuracy_all)\n",
    "                result['Similarity_x'].append(plot_info_x.similarity)\n",
    "                result['Similarity_xy'].append(\n",
    "                    PlotInfo(word, shot, model, key_type='xy').quantile_accuracies_plot(q_num=10).similarity)\n",
    "                result['Similarity_xz'].append(\n",
    "                    PlotInfo(word, shot, model, key_type='xz').quantile_accuracies_plot(q_num=10).similarity)\n",
    "                task_result.append([result['#Shot'][-1], result['Accuracy'][-1], result['Similarity_x'][-1], result['Similarity_xy'][-1]])\n",
    "        latex_content += template_header.format(len(task_result), task, task_result[0][0], task_result[0][1], task_result[0][2], task_result[0][3])\n",
    "        for tt in task_result[1:]:\n",
    "            latex_content += template_row.format(*tt)\n",
    "        latex_content += footer\n",
    "    pd.DataFrame(result).to_csv(comparison_task_1_path)\n",
    "    print(latex_content)\n",
    "\n",
    "\n",
    "create_comparison_similarity_1()"
   ],
   "metadata": {
    "collapsed": false,
    "pycharm": {
     "name": "#%%\n"
    }
   }
  },
  {
   "cell_type": "code",
   "execution_count": 134,
   "outputs": [
    {
     "name": "stdout",
     "output_type": "stream",
     "text": [
      "Total Not Found for key xy is 9\n",
      "Total Not Found for key xy is 9\n",
      "Total Not Found for key xy is 9\n",
      "Total Not Found for key xy is 159\n",
      "Total Not Found for key xy is 154\n",
      "Total Not Found for key xy is 146\n",
      "\\multirow{3}{*}{Min2Sec} & 2 & 0.19 & 0.44 & 0.47\\\\\n",
      "& 4 & 0.39 & 0.57 & 0.60\\\\\n",
      "& 8 & 0.47 & 0.64 & 0.61\\\\\n",
      "\\midrule\n",
      "\\multirow{3}{*}{Hour2Min} & 2 & 0.22 & 0.57 & 0.49\\\\\n",
      "& 4 & 0.26 & 0.58 & 0.52\\\\\n",
      "& 8 & 0.38 & 0.70 & 0.61\\\\\n",
      "\\midrule\n",
      "\\multirow{3}{*}{Day2Hour} & 2 & 0.10 & 0.20 & 0.16\\\\\n",
      "& 4 & 0.19 & 0.25 & 0.21\\\\\n",
      "& 8 & 0.31 & 0.44 & 0.45\\\\\n",
      "\\midrule\n",
      "\\multirow{3}{*}{Month2Week} & 2 & 0.36 & 0.07 & 0.11\\\\\n",
      "& 4 & 0.75 & 0.16 & 0.21\\\\\n",
      "& 8 & 0.79 & 0.33 & 0.28\\\\\n",
      "\\midrule\n",
      "\\multirow{3}{*}{Year2Month} & 2 & 0.22 & 0.48 & 0.57\\\\\n",
      "& 4 & 0.29 & 0.46 & 0.58\\\\\n",
      "& 8 & 0.53 & 0.57 & 0.63\\\\\n",
      "\\midrule\n",
      "\\multirow{3}{*}{Decade2Year} & 2 & 0.75 & 0.29 & 0.27\\\\\n",
      "& 4 & 0.96 & 0.02 & 0.02\\\\\n",
      "& 8 & 1.00 & 0.00 & 0.00\\\\\n",
      "\\midrule\n",
      "\n"
     ]
    }
   ],
   "source": [
    "def create_timeunits_similarity_1():\n",
    "    timeunits_task_1_path = './latex_results/timeunits-gptj.csv'\n",
    "    template_header = \"\\\\multirow{{{0}}}{{*}}{{{1}}} & {2} & {3:.2f} & {4:.2f} & {5:.2f}\\\\\\\\\\n\"\n",
    "    template_row = \"& {0} & {1:.2f} & {2:.2f} & {3:.2f}\\\\\\\\\\n\"\n",
    "    footer = \"\\midrule\\n\"\n",
    "    result = {\n",
    "        'Task': [],\n",
    "        'Model': [],\n",
    "        '#Shot': [],\n",
    "        'Accuracy': [],\n",
    "        'Similarity_x': [],\n",
    "        'Similarity_xy': [],\n",
    "        # 'Similarity_xz': [],\n",
    "    }\n",
    "    latex_content = \"\"\n",
    "    for (task, word) in [('Min2Sec', 'minute'), ('Hour2Min', 'hour'), ('Day2Hour', 'day'), ('Month2Week', 'month'), ('Year2Month', 'year'), ('Decade2Year', 'decade')]:\n",
    "        task_result = []\n",
    "        for model in ['gptj']:\n",
    "            for shot in [2, 4, 8]:\n",
    "                result['Task'].append(task)\n",
    "                result['Model'].append(model)\n",
    "                result['#Shot'].append(shot)\n",
    "                plot_info_x = PlotInfo(word, shot, model, key_type='x') \\\n",
    "                    .quantile_accuracies_plot(q_num=5) \\\n",
    "                    .calculate_accuracy_all()\n",
    "                result['Accuracy'].append(plot_info_x.accuracy_all)\n",
    "                result['Similarity_x'].append(plot_info_x.similarity)\n",
    "                result['Similarity_xy'].append(\n",
    "                    PlotInfo(word, shot, model, key_type='xy').quantile_accuracies_plot(q_num=5).similarity)\n",
    "                # result['Similarity_xz'].append(\n",
    "                #     PlotInfo(word, shot, model, key_type='xz').quantile_accuracies_plot(q_num=10).similarity)\n",
    "                task_result.append([result['#Shot'][-1], result['Accuracy'][-1], result['Similarity_x'][-1], result['Similarity_xy'][-1]])\n",
    "        latex_content += template_header.format(len(task_result), task, task_result[0][0], task_result[0][1], task_result[0][2], task_result[0][3])\n",
    "        for tt in task_result[1:]:\n",
    "            latex_content += template_row.format(*tt)\n",
    "        latex_content += footer\n",
    "    pd.DataFrame(result).to_csv(timeunits_task_1_path)\n",
    "    with open(timeunits_task_1_path+\".txt\", \"w\") as f:\n",
    "        f.write(latex_content)\n",
    "    print(latex_content)\n",
    "\n",
    "\n",
    "create_timeunits_similarity_1()"
   ],
   "metadata": {
    "collapsed": false,
    "pycharm": {
     "name": "#%%\n"
    }
   }
  },
  {
   "cell_type": "code",
   "execution_count": 130,
   "outputs": [
    {
     "name": "stdout",
     "output_type": "stream",
     "text": [
      "Total Not Found for key xz is 215\n"
     ]
    },
    {
     "data": {
      "text/plain": "<Figure size 432x288 with 1 Axes>",
      "image/png": "[encoded data removed]"
     },
     "metadata": {},
     "output_type": "display_data"
    },
    {
     "data": {
      "text/plain": "<plot_utils.PlotInfo at 0x7ff0716a2910>"
     },
     "execution_count": 130,
     "metadata": {},
     "output_type": "execute_result"
    }
   ],
   "source": [
    "# x = PlotInfo('decade', 8, 'gptj', key_type='xy').quantile_accuracies_plot(q_num=10).calculate_accuracy_all()\n",
    "save_freq_acc_plot_and_get_info('day', 8, 'gptj', key='xz', show_plot=True, quantile_number=5)"
   ],
   "metadata": {
    "collapsed": false,
    "pycharm": {
     "name": "#%%\n"
    }
   }
  },
  {
   "cell_type": "code",
   "execution_count": 131,
   "outputs": [
    {
     "name": "stdout",
     "output_type": "stream",
     "text": [
      "Total Not Found for key xz is 215\n"
     ]
    },
    {
     "data": {
      "text/plain": "<Figure size 432x288 with 1 Axes>",
      "image/png": "[encoded data removed]"
     },
     "metadata": {},
     "output_type": "display_data"
    },
    {
     "data": {
      "text/plain": "<plot_utils.PlotInfo at 0x7ff070ac85d0>"
     },
     "execution_count": 131,
     "metadata": {},
     "output_type": "execute_result"
    }
   ],
   "source": [
    "save_freq_acc_plot_and_get_info('day', 8, 'gptj', key='xz', show_plot=True, quantile_number=5)"
   ],
   "metadata": {
    "collapsed": false,
    "pycharm": {
     "name": "#%%\n"
    }
   }
  },
  {
   "cell_type": "code",
   "execution_count": null,
   "outputs": [],
   "source": [],
   "metadata": {
    "collapsed": false,
    "pycharm": {
     "name": "#%%\n"
    }
   }
  }
 ],
 "metadata": {
  "kernelspec": {
   "display_name": "Python 3 (ipykernel)",
   "language": "python",
   "name": "python3"
  },
  "language_info": {
   "codemirror_mode": {
    "name": "ipython",
    "version": 3
   },
   "file_extension": ".py",
   "mimetype": "text/x-python",
   "name": "python",
   "nbconvert_exporter": "python",
   "pygments_lexer": "ipython3",
   "version": "3.7.11"
  }
 },
 "nbformat": 4,
 "nbformat_minor": 5
}